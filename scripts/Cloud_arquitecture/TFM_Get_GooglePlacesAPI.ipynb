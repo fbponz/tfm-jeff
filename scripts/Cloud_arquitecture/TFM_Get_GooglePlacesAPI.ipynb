{
  "nbformat": 4,
  "nbformat_minor": 0,
  "metadata": {
    "colab": {
      "name": "TFM_Get_GooglePlacesAPI.ipynb",
      "provenance": [],
      "collapsed_sections": []
    },
    "kernelspec": {
      "name": "python3",
      "display_name": "Python 3"
    },
    "language_info": {
      "name": "python"
    }
  },
  "cells": [
    {
      "cell_type": "code",
      "metadata": {
        "id": "HhH2RRupbSxR"
      },
      "source": [
        "import requests\n",
        "import json\n",
        "import time\n",
        "import  csv\n",
        "import pandas as pd  "
      ],
      "execution_count": 1,
      "outputs": []
    },
    {
      "cell_type": "code",
      "metadata": {
        "id": "Ch0IvO0JCI4O"
      },
      "source": [
        "vAPIKEY=''\n",
        "with open('googlekeys.csv', mode='r', ) as csv_file:\n",
        "        csv_reader = csv.DictReader(csv_file, delimiter=',')\n",
        "        for row in csv_reader:\n",
        "            vAPIKEY=row[\"APIKEY\"]"
      ],
      "execution_count": 2,
      "outputs": []
    },
    {
      "cell_type": "code",
      "metadata": {
        "id": "IzkGRdgH_vOo"
      },
      "source": [
        "def get_data_from_google(longi,lati,searchplace,typedefi,apikey):\n",
        "  places = []\n",
        "  params = {}\n",
        "    \n",
        "  endpoint_url = \"https://maps.googleapis.com/maps/api/place/textsearch/json?query=\"+searchplace+\"&location=\"+str(longi)+\",\"+str(lati)+\"&radius=1000&region=eu&type=\"+typedefi+\"&key=\"+apikey\n",
        "          \n",
        "  res = requests.get(endpoint_url, params = params)\n",
        "  results =  json.loads(res.content)\n",
        "  places.extend(results['results'])\n",
        "  time.sleep(2)\n",
        "#  while \"next_page_token\" in results:\n",
        "#      params['pagetoken'] = results['next_page_token'],\n",
        "#      res = requests.get(endpoint_url, params = params)\n",
        "#      results = json.loads(res.content)\n",
        "#      places.extend(results['results'])\n",
        "#      time.sleep(2)\n",
        "  places_df = pd.json_normalize(places)\n",
        "  return places_df\n",
        "  "
      ],
      "execution_count": 3,
      "outputs": []
    },
    {
      "cell_type": "code",
      "metadata": {
        "id": "Y8H3OPjl_7va"
      },
      "source": [
        "List = []\n",
        "List.append([39.4573152, -0.4006254])\n",
        "List.append([39.4478379, -0.3887807])\n",
        "List.append([39.472423, -0.3884374])\n",
        "List.append([39.483818, -0.4026856])\n",
        "List.append([39.4606949, -0.382])\n",
        "List.append([39.4446565, -0.3710996])\n",
        "List.append([39.4583755, -0.3650056])\n",
        "List.append([39.4740794, -0.3700697])\n",
        "List.append([39.4876601, -0.3819143])\n",
        "List.append([39.4694415, -0.3515302])\n",
        "List.append([39.453604, -0.3442346])\n",
        "List.append([39.4433971, -0.3549635])\n",
        "List.append([39.4889849, -0.3626024])\n",
        "List.append([39.4954761, -0.3759061])\n",
        "List.append([39.4971981, -0.3978788])\n",
        "List.append([39.4663273, -0.3328191])\n",
        "List.append([39.4372325, -0.3361665])\n",
        "List.append([39.4513506, -0.3265535])\n",
        "List.append([39.4807044, -0.3494703])\n",
        "List.append([39.4790482, -0.3317892])\n",
        "List.append([39.509185, -0.3870641])\n",
        "List.append([39.5235584, -0.3626485])\n",
        "List.append([39.5624763, -0.2940242])\n",
        "List.append([39.5150836, -0.3983951])\n",
        "List.append([39.5238234, -0.3884386])\n",
        "List.append([39.533886, -0.4018283])\n",
        "List.append([39.5436824, -0.4152179])\n",
        "List.append([39.552948, -0.4327274])\n",
        "List.append([39.5436824, -0.3400302])\n",
        "List.append([39.3522597, -0.3238425])\n",
        "List.append([39.3659402, -0.3281403])\n",
        "List.append([39.3924793, -0.3355237])\n",
        "List.append([39.4244428, -0.3547502])\n",
        "List.append([39.3355411, -0.3125235])\n",
        "List.append([39.2858683, -0.2871151])\n",
        "List.append([39.3204021, -0.3053117])\n",
        "List.append([39.43142, -0.3828049])\n",
        "List.append([39.4358457, -0.3988755])\n",
        "List.append([39.4424744, -0.4136384])\n",
        "List.append([39.454934, -0.4222222])\n",
        "List.append([39.4477769, -0.4411046])\n",
        "List.append([39.3095508, -0.3157602])\n",
        "List.append([39.3037064, -0.2961908])\n",
        "List.append([39.2731485, -0.2749048])\n",
        "List.append([39.3802052, -0.3282189])\n",
        "List.append([39.4040002, -0.3401154])\n",
        "List.append([39.4185896, -0.3418331])\n",
        "List.append([39.4306563, -0.367239])\n",
        "List.append([39.5621826, -0.3138893])\n",
        "List.append([39.5732983, -0.3052204])\n",
        "List.append([39.4956958, -0.4182532])\n",
        "List.append([39.5058278, -0.4298113])\n",
        "List.append([39.4797303, -0.4208843])\n",
        "List.append([39.4896012, -0.4366776])\n",
        "\n",
        "#\"school,primary_school,secondary_school,university\"\n",
        "#\"subway_station,bus_station,transit_station,train_station\"\n",
        "#\"shopping_mall,supermarket,store,pharmacy\""
      ],
      "execution_count": 4,
      "outputs": []
    },
    {
      "cell_type": "code",
      "metadata": {
        "id": "brMXA55VSIkI"
      },
      "source": [
        "df = get_data_from_google(39.4671224, -0.4085218,\"Laundry\",\"Laundry\",vAPIKEY)\n",
        "for location in List:\n",
        "    df2 = get_data_from_google(location[0],location[1],\"Laundry\",\"Laundry\",vAPIKEY)\n",
        "    df = pd.concat([df, df2], ignore_index=True)"
      ],
      "execution_count": null,
      "outputs": []
    },
    {
      "cell_type": "code",
      "metadata": {
        "id": "IXf2SaQYFH7Y"
      },
      "source": [
        "df3 = get_data_from_google(39.4671224, -0.4085218,\"Supermercado\",\"supermarket\",vAPIKEY)\n",
        "for location in List:\n",
        "    df4 = get_data_from_google(location[0],location[1],\"Supermercado\",\"supermarket\",vAPIKEY)\n",
        "    df3 = pd.concat([df3, df4], ignore_index=True)"
      ],
      "execution_count": null,
      "outputs": []
    },
    {
      "cell_type": "code",
      "metadata": {
        "id": "lajNm2VHVDFQ"
      },
      "source": [
        "df3_1 = get_data_from_google(39.4671224, -0.4085218,\"Tienda Tenda\",\"store\",vAPIKEY)\n",
        "for location in List:\n",
        "    df4_1 = get_data_from_google(location[0],location[1],\"Tienda Tenda\",\"store\",vAPIKEY)\n",
        "    df3_1 = pd.concat([df3_1, df4_1], ignore_index=True)"
      ],
      "execution_count": null,
      "outputs": []
    },
    {
      "cell_type": "code",
      "metadata": {
        "id": "Ap49dvEDVCts"
      },
      "source": [
        "df3_2 = get_data_from_google(39.4671224, -0.4085218,\"Centro comercial\",\"shopping_mall\",vAPIKEY)\n",
        "for location in List:\n",
        "    df4_2 = get_data_from_google(location[0],location[1],\"Centro comercial\",\"shopping_mall\",vAPIKEY)\n",
        "    df3_2 = pd.concat([df3_2, df4_2], ignore_index=True)"
      ],
      "execution_count": null,
      "outputs": []
    },
    {
      "cell_type": "code",
      "metadata": {
        "id": "qZGnYaGqVCSn"
      },
      "source": [
        "df3_3 = get_data_from_google(39.4671224, -0.4085218,\"Farmacia \",\"pharmacy\",vAPIKEY)\n",
        "for location in List:\n",
        "    df4_3 = get_data_from_google(location[0],location[1],\"Farmacia \",\"pharmacy\",vAPIKEY)\n",
        "    df3_3 = pd.concat([df3_3, df4_3], ignore_index=True)"
      ],
      "execution_count": null,
      "outputs": []
    },
    {
      "cell_type": "code",
      "metadata": {
        "id": "uLny8sHuWslL"
      },
      "source": [
        "df3 = pd.concat([df3,df3_1, df3_2, df3_3], ignore_index=True)"
      ],
      "execution_count": null,
      "outputs": []
    },
    {
      "cell_type": "code",
      "metadata": {
        "id": "nSpmHkULFYTS"
      },
      "source": [
        "df5 = get_data_from_google(39.4671224, -0.4085218,\"Parada Metro Tranvia Autobus\",\"subway_station,bus_station,transit_station,train_station\",vAPIKEY)\n",
        "for location in List:\n",
        "    df6 = get_data_from_google(location[0],location[1],\"Parada Metro Tranvia Autobus\",\"subway_station,bus_station,transit_station,train_station\",vAPIKEY)\n",
        "    df5 = pd.concat([df5, df6], ignore_index=True)"
      ],
      "execution_count": null,
      "outputs": []
    },
    {
      "cell_type": "code",
      "metadata": {
        "id": "aABboUVsg0_-"
      },
      "source": [
        "df5_1 = get_data_from_google(39.4671224, -0.4085218,\"Parada Metro Tranvia Autobus\",\"subway_station,bus_station,transit_station,train_station\",vAPIKEY)\n",
        "for location in List:\n",
        "    df6_1 = get_data_from_google(location[0],location[1],\"Parada Metro Tranvia Autobus\",\"subway_station,bus_station,transit_station,train_station\",vAPIKEY)\n",
        "    df5_1 = pd.concat([df5_1, df6_1], ignore_index=True)"
      ],
      "execution_count": null,
      "outputs": []
    },
    {
      "cell_type": "code",
      "metadata": {
        "id": "m1Pu1t9sg1Ys"
      },
      "source": [
        "df5_2 = get_data_from_google(39.4671224, -0.4085218,\"Parada Metro Tranvia Autobus\",\"subway_station,bus_station,transit_station,train_station\",vAPIKEY)\n",
        "for location in List:\n",
        "    df6_2 = get_data_from_google(location[0],location[1],\"Parada Metro Tranvia Autobus\",\"subway_station,bus_station,transit_station,train_station\",vAPIKEY)\n",
        "    df5_2 = pd.concat([df5_2, df6_2], ignore_index=True)"
      ],
      "execution_count": null,
      "outputs": []
    },
    {
      "cell_type": "code",
      "metadata": {
        "id": "cbw51DQXhCNc"
      },
      "source": [
        "df5_3 = get_data_from_google(39.4671224, -0.4085218,\"Parada Metro Tranvia Autobus\",\"subway_station,bus_station,transit_station,train_station\",vAPIKEY)\n",
        "for location in List:\n",
        "    df6_3 = get_data_from_google(location[0],location[1],\"Parada Metro Tranvia Autobus\",\"subway_station,bus_station,transit_station,train_station\",vAPIKEY)\n",
        "    df5_3 = pd.concat([df5_3, df6_3], ignore_index=True)"
      ],
      "execution_count": null,
      "outputs": []
    },
    {
      "cell_type": "code",
      "metadata": {
        "id": "yQlJDqazhKF_"
      },
      "source": [
        "df5 = pd.concat([df5,df5_1, df5_2, df5_3], ignore_index=True)"
      ],
      "execution_count": null,
      "outputs": []
    },
    {
      "cell_type": "code",
      "metadata": {
        "id": "T8TnyrYBFoDE"
      },
      "source": [
        "df7 = get_data_from_google(39.4671224, -0.4085218,\"Parvulario\",\"school,primary_school,secondary_school,university\",vAPIKEY)\n",
        "for location in List:\n",
        "    df8 = get_data_from_google(location[0],location[1],\"Parvulario\",\"school,primary_school,secondary_school,university\",vAPIKEY)\n",
        "    df7 = pd.concat([df7, df8], ignore_index=True)"
      ],
      "execution_count": null,
      "outputs": []
    },
    {
      "cell_type": "code",
      "metadata": {
        "id": "jbsA3ix5hP-t"
      },
      "source": [
        "df7_1 = get_data_from_google(39.4671224, -0.4085218,\"School\",\"school\",vAPIKEY)\n",
        "for location in List:\n",
        "    df8_1 = get_data_from_google(location[0],location[1],\"School\",\"school\",vAPIKEY)\n",
        "    df7_1 = pd.concat([df7_1, df8_1], ignore_index=True)"
      ],
      "execution_count": null,
      "outputs": []
    },
    {
      "cell_type": "code",
      "metadata": {
        "id": "IiIsDK4XhQgj"
      },
      "source": [
        "df7_2 = get_data_from_google(39.4671224, -0.4085218,\"Primary School\",\"primary_school\",vAPIKEY)\n",
        "for location in List:\n",
        "    df8_2 = get_data_from_google(location[0],location[1],\"Primary School\",\"primary_school\",vAPIKEY)\n",
        "    df7_2 = pd.concat([df7_2, df8_2], ignore_index=True)"
      ],
      "execution_count": null,
      "outputs": []
    },
    {
      "cell_type": "code",
      "metadata": {
        "id": "As2aqPq1hQ4h"
      },
      "source": [
        "df7_3 = get_data_from_google(39.4671224, -0.4085218,\"Secondary school\",\"secondary_school\",vAPIKEY)\n",
        "for location in List:\n",
        "    df8_3 = get_data_from_google(location[0],location[1],\"Secondary school\",\"secondary_school\",vAPIKEY)\n",
        "    df7_3 = pd.concat([df7_3, df8_3], ignore_index=True)"
      ],
      "execution_count": null,
      "outputs": []
    },
    {
      "cell_type": "code",
      "metadata": {
        "id": "hK_osmXShRkR"
      },
      "source": [
        "df7_4 = get_data_from_google(39.4671224, -0.4085218,\"University\",\"university\",vAPIKEY)\n",
        "for location in List:\n",
        "    df8_4 = get_data_from_google(location[0],location[1],\"University\",\"university\",vAPIKEY)\n",
        "    df7_4 = pd.concat([df7_4, df8_4], ignore_index=True)"
      ],
      "execution_count": null,
      "outputs": []
    },
    {
      "cell_type": "code",
      "metadata": {
        "id": "VeashinAhHI4"
      },
      "source": [
        "df9 = get_data_from_google(39.4671224, -0.4085218,\"Gym\",\"gym\",vAPIKEY)\n",
        "for location in List:\n",
        "    df10 = get_data_from_google(location[0],location[1],\"Gym\",\"gym\",vAPIKEY)\n",
        "    df9 = pd.concat([df9, df10], ignore_index=True)"
      ],
      "execution_count": null,
      "outputs": []
    },
    {
      "cell_type": "code",
      "metadata": {
        "id": "waNGAcy0hpda"
      },
      "source": [
        "df11 = get_data_from_google(39.4671224, -0.4085218,\"Restaurante\",\"restaurant\",vAPIKEY)\n",
        "for location in List:\n",
        "    df12 = get_data_from_google(location[0],location[1],\"Restaurante\",\"restaurant\",vAPIKEY)\n",
        "    df11 = pd.concat([df11, df12], ignore_index=True)"
      ],
      "execution_count": null,
      "outputs": []
    },
    {
      "cell_type": "code",
      "metadata": {
        "id": "g5LcUUZJiMV4"
      },
      "source": [
        "df13 = get_data_from_google(39.4671224, -0.4085218,\"Parque\",\"Park\",vAPIKEY)\n",
        "for location in List:\n",
        "    df14 = get_data_from_google(location[0],location[1],\"Parque\",\"Park\",vAPIKEY)\n",
        "    df13 = pd.concat([df13, df14], ignore_index=True)"
      ],
      "execution_count": null,
      "outputs": []
    },
    {
      "cell_type": "code",
      "metadata": {
        "id": "e3HeJpDO4Xwa"
      },
      "source": [
        "df15 = get_data_from_google(39.4671224, -0.4085218,\"Hospital\",\"hospital\",vAPIKEY)\n",
        "for location in List:\n",
        "    df16 = get_data_from_google(location[0],location[1],\"Hospital\",\"hospital\",vAPIKEY)\n",
        "    df15 = pd.concat([df15, df16], ignore_index=True)"
      ],
      "execution_count": 5,
      "outputs": []
    },
    {
      "cell_type": "code",
      "metadata": {
        "id": "pGOk2MUx5s1A"
      },
      "source": [
        "df17 = get_data_from_google(39.4671224, -0.4085218,\"Bancos\",\"bank\",vAPIKEY)\n",
        "for location in List:\n",
        "    df18 = get_data_from_google(location[0],location[1],\"Bancos\",\"bank\",vAPIKEY)\n",
        "    df17 = pd.concat([df17, df18], ignore_index=True)"
      ],
      "execution_count": 6,
      "outputs": []
    },
    {
      "cell_type": "code",
      "metadata": {
        "id": "rMvvhFaf6sJ8"
      },
      "source": [
        "df19 = get_data_from_google(39.4671224, -0.4085218,\"Estadio\",\"stadium\",vAPIKEY)\n",
        "for location in List:\n",
        "    df20 = get_data_from_google(location[0],location[1],\"Estadio\",\"stadium\",vAPIKEY)\n",
        "    df19 = pd.concat([df19, df20], ignore_index=True)"
      ],
      "execution_count": 7,
      "outputs": []
    },
    {
      "cell_type": "code",
      "metadata": {
        "id": "TiV3bl-AiNPH"
      },
      "source": [
        "df7 = pd.concat([df7,df7_1, df7_2, df7_3,df7_4], ignore_index=True)"
      ],
      "execution_count": null,
      "outputs": []
    },
    {
      "cell_type": "code",
      "metadata": {
        "id": "0l-AVI1ngFJe"
      },
      "source": [
        "df.to_csv(r'lavanderias_general.csv')\n",
        "df3.to_csv(r'supermercado_general.csv')\n",
        "df5.to_csv(r'trans_general.csv')\n",
        "df7.to_csv(r'educa_general.csv')"
      ],
      "execution_count": null,
      "outputs": []
    },
    {
      "cell_type": "code",
      "metadata": {
        "id": "x583FSMKhXo8"
      },
      "source": [
        "df9.to_csv(r'gimnasios_general.csv')"
      ],
      "execution_count": null,
      "outputs": []
    },
    {
      "cell_type": "code",
      "metadata": {
        "id": "EguDCUVwigMA"
      },
      "source": [
        "df11.to_csv(r'restaurantes_general.csv')"
      ],
      "execution_count": null,
      "outputs": []
    },
    {
      "cell_type": "code",
      "metadata": {
        "id": "ctV36R7YimN2"
      },
      "source": [
        "df13.to_csv(r'parques_general.csv')"
      ],
      "execution_count": null,
      "outputs": []
    },
    {
      "cell_type": "code",
      "metadata": {
        "id": "j7Hsy5MX5dn5"
      },
      "source": [
        "df15.to_csv(r'hospital_general.csv')"
      ],
      "execution_count": 11,
      "outputs": []
    },
    {
      "cell_type": "code",
      "metadata": {
        "id": "4kVR31xI51Cy"
      },
      "source": [
        "df17.to_csv(r'Bancos_general.csv')"
      ],
      "execution_count": 12,
      "outputs": []
    },
    {
      "cell_type": "code",
      "metadata": {
        "id": "rCc9UUlj7GNd"
      },
      "source": [
        "df19.to_csv(r'estadio_general.csv')"
      ],
      "execution_count": 13,
      "outputs": []
    }
  ]
}