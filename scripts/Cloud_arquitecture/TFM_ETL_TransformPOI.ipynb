{
  "nbformat": 4,
  "nbformat_minor": 0,
  "metadata": {
    "colab": {
      "name": "TFM_ETL_TransformPOI.ipynb",
      "provenance": [],
      "collapsed_sections": []
    },
    "kernelspec": {
      "name": "python3",
      "display_name": "Python 3"
    },
    "language_info": {
      "name": "python"
    }
  },
  "cells": [
    {
      "cell_type": "code",
      "metadata": {
        "id": "nS1Fi8qFU5Ea"
      },
      "source": [
        "import pandas as pd\n",
        "import json\n",
        "import shapely\n",
        "from shapely.geometry import shape, GeometryCollection, Point, Polygon"
      ],
      "execution_count": null,
      "outputs": []
    },
    {
      "cell_type": "code",
      "metadata": {
        "id": "XOAeDH6_ebHP"
      },
      "source": [
        "with open('seccensales.JSON') as f:\n",
        "    features = json.load(f)[\"features\"]"
      ],
      "execution_count": null,
      "outputs": []
    },
    {
      "cell_type": "code",
      "metadata": {
        "id": "Oj5APY2TVu0Y"
      },
      "source": [
        "poi_educa = pd.read_csv('educacion_general.csv', sep=',', decimal='.')\n",
        "poi_lavan = pd.read_csv('lavanderias_general.csv', sep=',', decimal='.')\n",
        "poi_super = pd.read_csv('supermercado_general.csv', sep=',', decimal='.')\n",
        "poi_transp = pd.read_csv('transporte_general.csv', sep=',', decimal='.')\n",
        "poi_gym = pd.read_csv('gimnasios_general.csv', sep=',', decimal='.')\n",
        "poi_parques = pd.read_csv('parques_general.csv', sep=',', decimal='.')\n",
        "poi_restau = pd.read_csv('restaurantes_general.csv', sep=',', decimal='.')\n",
        "poi_bank = pd.read_csv('Bancos_general.csv', sep=',', decimal='.')\n",
        "poi_estadios = pd.read_csv('estadio_general.csv', sep=',', decimal='.')\n",
        "poi_hospitales = pd.read_csv('hospital_general.csv', sep=',', decimal='.')"
      ],
      "execution_count": null,
      "outputs": []
    },
    {
      "cell_type": "code",
      "metadata": {
        "id": "4HrnJ5_DmPVl"
      },
      "source": [
        "def remove_duplicates(df, string_type):\n",
        "  df['duplicator'] = df['name']+df['formatted_address']\n",
        "  df['duplicator2'] = df['geometry.location.lat']+df['geometry.location.lng']\n",
        "  df.drop_duplicates(['duplicator'], inplace=True)\n",
        "  df.drop_duplicates(['duplicator2'], inplace=True)\n",
        "  df['type']= string_type\n",
        "  df.drop(['Unnamed: 0','formatted_address','icon','icon_background_color','icon_mask_base_uri','photos','place_id','reference','geometry.viewport.northeast.lat',\t'geometry.viewport.northeast.lng',\t'geometry.viewport.southwest.lat',\t'geometry.viewport.southwest.lng',\t'plus_code.compound_code',\t'plus_code.global_code',\t'opening_hours.open_now',\t'duplicator',\t'duplicator2'], axis=1, inplace=True)\n",
        "  return df"
      ],
      "execution_count": null,
      "outputs": []
    },
    {
      "cell_type": "code",
      "metadata": {
        "id": "_h1bU5CHWK8Z"
      },
      "source": [
        "poi_educa = remove_duplicates(poi_educa, 'education')\n",
        "poi_lavan = remove_duplicates(poi_lavan, 'lavanderias')\n",
        "poi_super = remove_duplicates(poi_super, 'tiendas')\n",
        "poi_transp = remove_duplicates(poi_transp, 'transporte')\n",
        "poi_gym = remove_duplicates(poi_gym, 'gimnasios')\n",
        "poi_parques = remove_duplicates(poi_parques, 'parques')\n",
        "poi_restau = remove_duplicates(poi_restau, 'restaurante')\n",
        "poi_bank = remove_duplicates(poi_bank, 'bancos')\n",
        "poi_estadios = remove_duplicates(poi_estadios, 'estadios')\n",
        "poi_hospitales = remove_duplicates(poi_hospitales, 'hospitales')\n",
        "\n",
        "\n"
      ],
      "execution_count": null,
      "outputs": []
    },
    {
      "cell_type": "code",
      "metadata": {
        "id": "G1VNpif9aJuG"
      },
      "source": [
        "poi_df = pd.concat([poi_educa, poi_lavan, poi_super, poi_transp, poi_gym, poi_parques, poi_restau, poi_bank, poi_estadios, poi_hospitales], ignore_index=True)"
      ],
      "execution_count": null,
      "outputs": []
    },
    {
      "cell_type": "code",
      "metadata": {
        "id": "cdgk1dZee7_S"
      },
      "source": [
        "def check_polygon(lat,long, infeatures):\n",
        "  seccensal = 0\n",
        "  point1 = Point(long, lat)\n",
        "  for feature in infeatures:\n",
        "      poly = Polygon(feature[\"geometry\"][\"coordinates\"][0])\n",
        "      if poly.contains(point1) == True:\n",
        "          seccensal = feature[\"properties\"][\"coddistsec\"]\n",
        "          break\n",
        "  return seccensal"
      ],
      "execution_count": null,
      "outputs": []
    },
    {
      "cell_type": "code",
      "metadata": {
        "id": "C7yrTP3Wcr8E"
      },
      "source": [
        "poi_df[\"coddistsec\"] = poi_df.apply(lambda row: check_polygon(row[\"geometry.location.lat\"], row[\"geometry.location.lng\"], features),axis=1)"
      ],
      "execution_count": null,
      "outputs": []
    },
    {
      "cell_type": "code",
      "metadata": {
        "id": "6cPAOmhpfc4y"
      },
      "source": [
        "poi_df = poi_df[poi_df['coddistsec']!=0.0]"
      ],
      "execution_count": null,
      "outputs": []
    },
    {
      "cell_type": "code",
      "metadata": {
        "id": "v8XskdcnlIcW"
      },
      "source": [
        "def divide_string(string_to_analyze):\n",
        "  new_data = string_to_analyze.split(\"'\")\n",
        "  if new_data[1] == 'point_of_interest':\n",
        "    valstr = new_data[3]\n",
        "  else:\n",
        "    valstr = new_data[1]\n",
        "  return valstr"
      ],
      "execution_count": null,
      "outputs": []
    },
    {
      "cell_type": "code",
      "metadata": {
        "id": "fd7zBRDzlmFV"
      },
      "source": [
        "poi_df[\"subtypes\"] = poi_df.apply(lambda row: divide_string(row[\"types\"]),axis=1)"
      ],
      "execution_count": null,
      "outputs": []
    },
    {
      "cell_type": "code",
      "metadata": {
        "id": "1UBpLf5ynSDo"
      },
      "source": [
        "poi_df = poi_df[poi_df['permanently_closed']!=True]\n",
        "poi_df.drop(['permanently_closed','price_level','types', 'business_status'], axis=1, inplace=True)"
      ],
      "execution_count": null,
      "outputs": []
    },
    {
      "cell_type": "code",
      "metadata": {
        "id": "CeqK7KuiCnrU"
      },
      "source": [
        "lavanderias_df = poi_df[poi_df['subtypes']=='laundry']"
      ],
      "execution_count": 18,
      "outputs": []
    },
    {
      "cell_type": "code",
      "metadata": {
        "id": "DmzAdLYnafiz"
      },
      "source": [
        "poi_df.to_csv(r'poi_tratado.csv')"
      ],
      "execution_count": null,
      "outputs": []
    },
    {
      "cell_type": "code",
      "metadata": {
        "id": "2qi9TiY7C5Xt"
      },
      "source": [
        "lavanderias_df.to_csv(r'lavanderias.csv')"
      ],
      "execution_count": 19,
      "outputs": []
    }
  ]
}