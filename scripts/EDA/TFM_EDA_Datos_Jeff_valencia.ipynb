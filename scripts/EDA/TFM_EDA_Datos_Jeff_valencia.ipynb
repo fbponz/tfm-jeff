{
  "nbformat": 4,
  "nbformat_minor": 0,
  "metadata": {
    "colab": {
      "name": "TFM_EDA_Datos_Jeff_valencia.ipynb",
      "provenance": []
    },
    "kernelspec": {
      "name": "python3",
      "display_name": "Python 3"
    },
    "language_info": {
      "name": "python"
    }
  },
  "cells": [
    {
      "cell_type": "code",
      "metadata": {
        "id": "FAXQQ2o2mrmg"
      },
      "source": [
        "!pip install pandas-profiling==2.7.1"
      ],
      "execution_count": null,
      "outputs": []
    },
    {
      "cell_type": "code",
      "metadata": {
        "id": "L5Pca4AcaRY3"
      },
      "source": [
        "import pandas as pd\n",
        "import math\n",
        "from pandas_profiling import ProfileReport"
      ],
      "execution_count": null,
      "outputs": []
    },
    {
      "cell_type": "code",
      "metadata": {
        "id": "gbbQOV5PckNx"
      },
      "source": [
        "def get_distance_two_locations(lat1, lon1, lat2, lon2):\n",
        "    rad=math.pi/180\n",
        "    dlat=lat2-lat1\n",
        "    dlon=lon2-lon1\n",
        "    R=6372.795477598\n",
        "    a=(math.sin(rad*dlat/2))**2 + math.cos(rad*lat1)*math.cos(rad*lat2)*(math.sin(rad*dlon/2))**2\n",
        "    distancia=2*R*math.asin(math.sqrt(a))\n",
        "    return distancia"
      ],
      "execution_count": null,
      "outputs": []
    },
    {
      "cell_type": "code",
      "metadata": {
        "id": "VpsAKvKghdHv"
      },
      "source": [
        "def get_sum_of_poi_client(row, poi_df):\n",
        "  total_poi = 0.0\n",
        "  total_habitantes = 0.0\n",
        "  secciones_censales_lista = []\n",
        "  for _, r in poi_df.iterrows():\n",
        "    distancia = get_distance_two_locations(row['ord_billing_address_lat'],row['ord_billing_address_long'], r['latitude'], r['longitude'])\n",
        "    if distancia < 0.5:\n",
        "      row[r['type']] = row[r['type']] + 1.0\n",
        "      total_poi = total_poi + 1.0\n",
        "  row['total_poi'] = total_poi\n",
        "  return row"
      ],
      "execution_count": null,
      "outputs": []
    },
    {
      "cell_type": "code",
      "metadata": {
        "id": "rtqHJReXc68I"
      },
      "source": [
        "jeff_vlc = pd.read_csv('dataset_jeff_valencia.csv', sep=',', decimal='.')"
      ],
      "execution_count": null,
      "outputs": []
    },
    {
      "cell_type": "code",
      "metadata": {
        "id": "zLnoEJGPQe9K"
      },
      "source": [
        "poi_vlc = pd.read_csv('poi_tratado.csv', sep=',', decimal='.')"
      ],
      "execution_count": null,
      "outputs": []
    },
    {
      "cell_type": "code",
      "metadata": {
        "id": "p7lGTNYdcrfO"
      },
      "source": [
        "jeff_vlc['Dist_Cliente_Tienda'] = jeff_vlc.apply(lambda row: get_distance_two_locations(row['prtn_address_latitude'],row['prtn_address_longitude'],row['ord_billing_address_lat'],row['ord_billing_address_long']), axis=1)"
      ],
      "execution_count": null,
      "outputs": []
    },
    {
      "cell_type": "code",
      "metadata": {
        "id": "0w-euTzDhtRj"
      },
      "source": [
        "uniquevalues = poi_vlc['type'].unique()\n",
        "jeff_vlc[uniquevalues] = 0.0"
      ],
      "execution_count": null,
      "outputs": []
    },
    {
      "cell_type": "code",
      "metadata": {
        "id": "FMXMrU5Djawf"
      },
      "source": [
        "jeff_vlc = jeff_vlc.apply(lambda row: get_sum_of_poi_client(row,poi_vlc), axis=1)"
      ],
      "execution_count": null,
      "outputs": []
    },
    {
      "cell_type": "code",
      "metadata": {
        "id": "Hdp7EF6od9Dy"
      },
      "source": [
        "jeff_vlc_petxina=jeff_vlc[jeff_vlc['prtn_code']==\"PETXINA\"]\n",
        "jeff_vlc_reino=jeff_vlc[jeff_vlc['prtn_code']==\"REINO\"]"
      ],
      "execution_count": null,
      "outputs": []
    },
    {
      "cell_type": "code",
      "metadata": {
        "id": "0F-hwiLVm4jU"
      },
      "source": [
        "report = ProfileReport(jeff_vlc_petxina)\n",
        "report.to_file(\"jeff_vlc_petxina_report.html\")"
      ],
      "execution_count": null,
      "outputs": []
    },
    {
      "cell_type": "code",
      "metadata": {
        "id": "mrlyZjiNm_AH"
      },
      "source": [
        "report = ProfileReport(jeff_vlc_reino)\n",
        "report.to_file(\"jeff_vlc_reino_report.html\")"
      ],
      "execution_count": null,
      "outputs": []
    },
    {
      "cell_type": "code",
      "metadata": {
        "id": "CrfM54NaZJGS"
      },
      "source": [
        "report = ProfileReport(jeff_vlc)\n",
        "report.to_file(\"jeff_vlc_report.html\")"
      ],
      "execution_count": null,
      "outputs": []
    },
    {
      "cell_type": "code",
      "metadata": {
        "id": "Jef0VcuBqWrW"
      },
      "source": [
        "jeff_vlc.to_csv(r'jeff_vlc_poi.csv')"
      ],
      "execution_count": null,
      "outputs": []
    }
  ]
}