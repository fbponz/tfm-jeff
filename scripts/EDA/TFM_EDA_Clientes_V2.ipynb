{
  "nbformat": 4,
  "nbformat_minor": 0,
  "metadata": {
    "colab": {
      "name": "TFM_EDA_Clientes_V2.ipynb",
      "provenance": [],
      "collapsed_sections": []
    },
    "kernelspec": {
      "name": "python3",
      "display_name": "Python 3"
    },
    "language_info": {
      "name": "python"
    }
  },
  "cells": [
    {
      "cell_type": "code",
      "metadata": {
        "id": "F4a61N7Fz-24"
      },
      "source": [
        "pip install -q folium"
      ],
      "execution_count": 1,
      "outputs": []
    },
    {
      "cell_type": "code",
      "metadata": {
        "id": "iPjUaiEE6mqL"
      },
      "source": [
        "!pip install -q geopandas"
      ],
      "execution_count": 2,
      "outputs": []
    },
    {
      "cell_type": "code",
      "metadata": {
        "id": "uKaQMXhcw5UZ"
      },
      "source": [
        "import pandas as pd\n",
        "import folium\n",
        "from folium.plugins import MarkerCluster\n",
        "import json\n",
        "import shapely\n",
        "from shapely.geometry import shape, GeometryCollection, Point, Polygon\n",
        "import geopandas as gpd"
      ],
      "execution_count": 3,
      "outputs": []
    },
    {
      "cell_type": "code",
      "metadata": {
        "id": "cb742bL0w-ZU"
      },
      "source": [
        "jeff_vlc = pd.read_csv('jeff_vlc_poi.csv', sep=',', decimal='.')\n",
        "jeff_vlc.drop(['Unnamed: 0','Unnamed: 0.1','partner_id','prtn_address_latitude','prtn_address_longitude','order_id', 'Dist_Cliente_Tienda'],inplace=True,axis=1)"
      ],
      "execution_count": 4,
      "outputs": []
    },
    {
      "cell_type": "code",
      "metadata": {
        "id": "rPtEd_UG6QQh"
      },
      "source": [
        "with open('seccensales.JSON') as f:\n",
        "    seccensales_geojson = json.load(f)"
      ],
      "execution_count": 5,
      "outputs": []
    },
    {
      "cell_type": "code",
      "metadata": {
        "id": "xKGNUye6y_LN"
      },
      "source": [
        "def DrawLaundry_Points(latitude, longitude, map,string):\n",
        "    folium.Marker(location=[latitude,longitude ],popup=string).add_to( map )"
      ],
      "execution_count": 6,
      "outputs": []
    },
    {
      "cell_type": "code",
      "metadata": {
        "id": "pI7U31K16OnR"
      },
      "source": [
        "def get_seccensal(lat,long, infeatures):\n",
        "  seccensal = 0\n",
        "  point1 = Point(long, lat)\n",
        "  for feature in infeatures[\"features\"]:\n",
        "      poly = Polygon(feature[\"geometry\"][\"coordinates\"][0])\n",
        "      if poly.contains(point1) == True:\n",
        "          seccensal = feature[\"properties\"][\"coddistsec\"]\n",
        "          break\n",
        "  return seccensal"
      ],
      "execution_count": 7,
      "outputs": []
    },
    {
      "cell_type": "code",
      "metadata": {
        "id": "0bpWXvWzdW6s"
      },
      "source": [
        "def draw_map_cluster(dataset):\n",
        "  map = folium.Map(location=[39.46994829189022, -0.37787440832473984], tiles='CartoDB dark_matter', zoom_start=14)\n",
        "  marker_cluster = MarkerCluster().add_to(map)\n",
        "  dataset_visual = dataset\n",
        "  dataset_visual = dataset_visual.drop_duplicates('customer_id')\n",
        "  dataset_visual.apply(lambda row: DrawLaundry_Points(row['ord_billing_address_lat'],row['ord_billing_address_long'],marker_cluster,row['prtn_code']), axis=1)\n",
        "  return map"
      ],
      "execution_count": 8,
      "outputs": []
    },
    {
      "cell_type": "code",
      "metadata": {
        "id": "MYPpO7RW7Hln"
      },
      "source": [
        "jeff_vlc[\"coddistsec\"] = jeff_vlc.apply(lambda row: get_seccensal(row[\"ord_billing_address_lat\"], row[\"ord_billing_address_long\"], seccensales_geojson), axis=1) \n",
        "jeff_vlc = jeff_vlc[jeff_vlc[\"coddistsec\"]!= 0]"
      ],
      "execution_count": 9,
      "outputs": []
    },
    {
      "cell_type": "markdown",
      "metadata": {
        "id": "GDZVTQmhaYyv"
      },
      "source": [
        "Pedidos de las dos modalidades"
      ]
    },
    {
      "cell_type": "code",
      "metadata": {
        "id": "P6dFKTfGxY26"
      },
      "source": [
        "map_total = draw_map_cluster(jeff_vlc)\n",
        "map_total"
      ],
      "execution_count": null,
      "outputs": []
    },
    {
      "cell_type": "markdown",
      "metadata": {
        "id": "-pc_j2G38Kxw"
      },
      "source": [
        "Solo pedidos offline"
      ]
    },
    {
      "cell_type": "code",
      "metadata": {
        "id": "Ba9vvias8Pkq"
      },
      "source": [
        "jeff_vlc_offline=jeff_vlc[jeff_vlc['ord_channel_type_code']=='OFFLINE']\n",
        "map_total_offline = draw_map_cluster(jeff_vlc_offline)\n",
        "map_total_offline"
      ],
      "execution_count": null,
      "outputs": []
    },
    {
      "cell_type": "code",
      "metadata": {
        "id": "bAiTWDIkc3vR"
      },
      "source": [
        "jeff_vlc_online=jeff_vlc[jeff_vlc['ord_channel_type_code']=='ONLINE']\n",
        "map_total_online = draw_map_cluster(jeff_vlc_online)\n",
        "map_total_online"
      ],
      "execution_count": null,
      "outputs": []
    },
    {
      "cell_type": "markdown",
      "metadata": {
        "id": "0NMm3K6X8twH"
      },
      "source": [
        "**Tienda petxina**\n",
        "\n",
        "Canal Offline Petxina"
      ]
    },
    {
      "cell_type": "code",
      "metadata": {
        "id": "7h7rwTpH890t"
      },
      "source": [
        "jeff_vlc_offline_petxina=jeff_vlc_offline[jeff_vlc_offline['prtn_code']=='PETXINA']\n",
        "map_total_offline_petxina = draw_map_cluster(jeff_vlc_offline_petxina)\n",
        "map_total_offline_petxina"
      ],
      "execution_count": null,
      "outputs": []
    },
    {
      "cell_type": "markdown",
      "metadata": {
        "id": "qgsZM8k9e-Za"
      },
      "source": [
        "Canal Online Petxina"
      ]
    },
    {
      "cell_type": "code",
      "metadata": {
        "id": "7-Xp27p6e916"
      },
      "source": [
        "jeff_vlc_online_petxina=jeff_vlc_online[jeff_vlc_online['prtn_code']=='PETXINA']\n",
        "map_total_online_petxina = draw_map_cluster(jeff_vlc_online_petxina)\n",
        "map_total_online_petxina"
      ],
      "execution_count": null,
      "outputs": []
    },
    {
      "cell_type": "markdown",
      "metadata": {
        "id": "bKjjei1X9HgU"
      },
      "source": [
        "**Tienda Reino**\n",
        "\n",
        "Canal Offline Reino"
      ]
    },
    {
      "cell_type": "code",
      "metadata": {
        "id": "eoDr8oPxoI48"
      },
      "source": [
        "jeff_vlc_offline_reino=jeff_vlc_offline[jeff_vlc_offline['prtn_code']=='REINO']\n",
        "map_total_offline_reino = draw_map_cluster(jeff_vlc_offline_reino)\n",
        "map_total_offline_reino"
      ],
      "execution_count": null,
      "outputs": []
    },
    {
      "cell_type": "markdown",
      "metadata": {
        "id": "g90VwccLovrt"
      },
      "source": [
        "Canal Online Reino"
      ]
    },
    {
      "cell_type": "code",
      "metadata": {
        "id": "TQsktsWxoZ8s"
      },
      "source": [
        "jeff_vlc_online_reino=jeff_vlc_online[jeff_vlc_online['prtn_code']=='REINO']\n",
        "map_total_online_reino = draw_map_cluster(jeff_vlc_online_reino)\n",
        "map_total_online_reino"
      ],
      "execution_count": null,
      "outputs": []
    },
    {
      "cell_type": "markdown",
      "metadata": {
        "id": "khqT9uPGEgFy"
      },
      "source": [
        "**Correlaciones valencia**"
      ]
    },
    {
      "cell_type": "code",
      "metadata": {
        "id": "Vlm6CUuIpZmU"
      },
      "source": [
        "def get_correlation_shop(in_vlc):\n",
        "  customer_id_count = in_vlc[['customer_id','total_poi']]\n",
        "  customer_id_count = customer_id_count.groupby(by=['customer_id']).count()\n",
        "  customer_id_count=customer_id_count.reset_index(level='customer_id')\n",
        "  customer_id_count = customer_id_count.rename(columns={'total_poi': 'num_operaciones'})\n",
        "  result = pd.merge(customer_id_count, in_vlc, on=\"customer_id\")\n",
        "  result_final = result.drop_duplicates('customer_id')\n",
        "  result_final.reset_index(inplace=True)\n",
        "  result_final.drop(['customer_id','index','prtn_code','prtn_city_code','ord_channel_code','ord_channel_type_code','ord_logistics_code','ord_creation_date_time','coddistsec', 'ord_billing_address_lat', 'ord_billing_address_long'],inplace=True,axis=1)\n",
        "  resultados_correlacion = result_final.corr()\n",
        "  result_corr = resultados_correlacion['num_operaciones']\n",
        "  return result_corr"
      ],
      "execution_count": 17,
      "outputs": []
    },
    {
      "cell_type": "markdown",
      "metadata": {
        "id": "XsJEFo-8p9-l"
      },
      "source": [
        "Correlacion Petxina offline y online"
      ]
    },
    {
      "cell_type": "code",
      "metadata": {
        "colab": {
          "base_uri": "https://localhost:8080/"
        },
        "id": "VDr4M-ikqMRY",
        "outputId": "079fb4d4-69e1-471b-fb3b-4b3d326a2d4b"
      },
      "source": [
        "result_petxina_online = get_correlation_shop(jeff_vlc_online_petxina)\n",
        "result_petxina_offline = get_correlation_shop(jeff_vlc_offline_petxina)"
      ],
      "execution_count": 18,
      "outputs": [
        {
          "output_type": "stream",
          "name": "stderr",
          "text": [
            "/usr/local/lib/python3.7/dist-packages/pandas/core/frame.py:4174: SettingWithCopyWarning: \n",
            "A value is trying to be set on a copy of a slice from a DataFrame\n",
            "\n",
            "See the caveats in the documentation: https://pandas.pydata.org/pandas-docs/stable/user_guide/indexing.html#returning-a-view-versus-a-copy\n",
            "  errors=errors,\n"
          ]
        }
      ]
    },
    {
      "cell_type": "code",
      "metadata": {
        "colab": {
          "base_uri": "https://localhost:8080/"
        },
        "id": "-h60eEwCqV7m",
        "outputId": "5f54fd39-a936-49cb-adb1-01e6a8b47b9f"
      },
      "source": [
        "result_petxina_online"
      ],
      "execution_count": 19,
      "outputs": [
        {
          "output_type": "execute_result",
          "data": {
            "text/plain": [
              "num_operaciones    1.000000\n",
              "education          0.032288\n",
              "lavanderias       -0.008336\n",
              "tiendas           -0.019727\n",
              "transporte        -0.075948\n",
              "gimnasios         -0.073093\n",
              "parques           -0.048690\n",
              "restaurante        0.037888\n",
              "bancos            -0.008972\n",
              "estadios          -0.041878\n",
              "hospitales         0.067472\n",
              "total_poi         -0.015762\n",
              "Name: num_operaciones, dtype: float64"
            ]
          },
          "metadata": {},
          "execution_count": 19
        }
      ]
    },
    {
      "cell_type": "code",
      "metadata": {
        "colab": {
          "base_uri": "https://localhost:8080/"
        },
        "id": "bMIn5aOeqXcH",
        "outputId": "f5ab15be-8694-4bd2-8523-0b2c06858bb2"
      },
      "source": [
        "result_petxina_offline"
      ],
      "execution_count": 20,
      "outputs": [
        {
          "output_type": "execute_result",
          "data": {
            "text/plain": [
              "num_operaciones    1.000000\n",
              "education         -0.188685\n",
              "lavanderias       -0.188381\n",
              "tiendas           -0.256605\n",
              "transporte         0.390698\n",
              "gimnasios         -0.206715\n",
              "parques            0.392787\n",
              "restaurante        0.015441\n",
              "bancos             0.428307\n",
              "estadios          -0.035762\n",
              "hospitales        -0.325821\n",
              "total_poi          0.126258\n",
              "Name: num_operaciones, dtype: float64"
            ]
          },
          "metadata": {},
          "execution_count": 20
        }
      ]
    },
    {
      "cell_type": "markdown",
      "metadata": {
        "id": "hwn4M4bSqgQX"
      },
      "source": [
        "Correlacion Reino offline y online"
      ]
    },
    {
      "cell_type": "code",
      "metadata": {
        "colab": {
          "base_uri": "https://localhost:8080/"
        },
        "id": "GC78s5ITqkEr",
        "outputId": "42dd55ea-e928-466e-c40f-e3e8c49d7647"
      },
      "source": [
        "result_reino_online = get_correlation_shop(jeff_vlc_online_reino)\n",
        "result_reino_offline = get_correlation_shop(jeff_vlc_offline_reino)"
      ],
      "execution_count": 21,
      "outputs": [
        {
          "output_type": "stream",
          "name": "stderr",
          "text": [
            "/usr/local/lib/python3.7/dist-packages/pandas/core/frame.py:4174: SettingWithCopyWarning: \n",
            "A value is trying to be set on a copy of a slice from a DataFrame\n",
            "\n",
            "See the caveats in the documentation: https://pandas.pydata.org/pandas-docs/stable/user_guide/indexing.html#returning-a-view-versus-a-copy\n",
            "  errors=errors,\n"
          ]
        }
      ]
    },
    {
      "cell_type": "code",
      "metadata": {
        "colab": {
          "base_uri": "https://localhost:8080/"
        },
        "id": "E0vxELxLql42",
        "outputId": "a09b0c51-37b4-4779-e819-4c262a8bf84d"
      },
      "source": [
        "result_reino_online"
      ],
      "execution_count": 22,
      "outputs": [
        {
          "output_type": "execute_result",
          "data": {
            "text/plain": [
              "num_operaciones    1.000000\n",
              "education         -0.037196\n",
              "lavanderias        0.007891\n",
              "tiendas            0.015815\n",
              "transporte        -0.057881\n",
              "gimnasios          0.088012\n",
              "parques           -0.080456\n",
              "restaurante        0.067028\n",
              "bancos             0.011383\n",
              "estadios          -0.019360\n",
              "hospitales        -0.059537\n",
              "total_poi          0.005779\n",
              "Name: num_operaciones, dtype: float64"
            ]
          },
          "metadata": {},
          "execution_count": 22
        }
      ]
    },
    {
      "cell_type": "code",
      "metadata": {
        "colab": {
          "base_uri": "https://localhost:8080/"
        },
        "id": "4mye0HnJql48",
        "outputId": "28aa2da6-a735-4c49-ada7-cddbf1acc277"
      },
      "source": [
        "result_reino_offline"
      ],
      "execution_count": 23,
      "outputs": [
        {
          "output_type": "execute_result",
          "data": {
            "text/plain": [
              "num_operaciones    1.000000\n",
              "education         -0.372207\n",
              "lavanderias       -0.395685\n",
              "tiendas           -0.036360\n",
              "transporte         0.390427\n",
              "gimnasios         -0.215273\n",
              "parques            0.393031\n",
              "restaurante       -0.261033\n",
              "bancos             0.362769\n",
              "estadios           0.246702\n",
              "hospitales         0.121555\n",
              "total_poi         -0.066432\n",
              "Name: num_operaciones, dtype: float64"
            ]
          },
          "metadata": {},
          "execution_count": 23
        }
      ]
    }
  ]
}