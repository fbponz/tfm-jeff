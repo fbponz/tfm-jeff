{
  "nbformat": 4,
  "nbformat_minor": 0,
  "metadata": {
    "colab": {
      "name": "TFM_EDA_Draw clients.ipynb",
      "provenance": []
    },
    "kernelspec": {
      "name": "python3",
      "display_name": "Python 3"
    },
    "language_info": {
      "name": "python"
    }
  },
  "cells": [
    {
      "cell_type": "code",
      "metadata": {
        "id": "F4a61N7Fz-24"
      },
      "source": [
        "pip install folium"
      ],
      "execution_count": null,
      "outputs": []
    },
    {
      "cell_type": "code",
      "metadata": {
        "id": "uKaQMXhcw5UZ"
      },
      "source": [
        "import pandas as pd\n",
        "import folium\n",
        "from folium.plugins import MarkerCluster"
      ],
      "execution_count": 12,
      "outputs": []
    },
    {
      "cell_type": "code",
      "metadata": {
        "id": "cb742bL0w-ZU"
      },
      "source": [
        "jeff_vlc = pd.read_csv('dataset_jeff_valencia.csv', sep=',', decimal='.')"
      ],
      "execution_count": 2,
      "outputs": []
    },
    {
      "cell_type": "code",
      "metadata": {
        "id": "lK6-DDHoxHU6"
      },
      "source": [
        "jeff_vlc_petxina=jeff_vlc[jeff_vlc['prtn_code']==\"PETXINA\"]\n",
        "jeff_vlc_reino=jeff_vlc[jeff_vlc['prtn_code']==\"REINO\"]"
      ],
      "execution_count": 3,
      "outputs": []
    },
    {
      "cell_type": "code",
      "metadata": {
        "id": "q1y92lKbyAkS"
      },
      "source": [
        "map = folium.Map(location=[39.46994829189022, -0.37787440832473984], tiles='CartoDB dark_matter', zoom_start=12)"
      ],
      "execution_count": 8,
      "outputs": []
    },
    {
      "cell_type": "code",
      "metadata": {
        "id": "xKGNUye6y_LN"
      },
      "source": [
        "def DrawLaundry_Points(latitude, longitude, map,string):\n",
        "    folium.Marker(location=[latitude,longitude ],popup=string).add_to( map )"
      ],
      "execution_count": 9,
      "outputs": []
    },
    {
      "cell_type": "code",
      "metadata": {
        "id": "P6dFKTfGxY26"
      },
      "source": [
        "marker_cluster = MarkerCluster().add_to(map)\n",
        "\n",
        "jeff_vlc.apply(lambda row: DrawLaundry_Points(row['ord_billing_address_lat'],row['ord_billing_address_long'],marker_cluster,row['prtn_code']), axis=1)\n",
        "\n",
        "map"
      ],
      "execution_count": null,
      "outputs": []
    },
    {
      "cell_type": "code",
      "metadata": {
        "id": "GJss57wOxP7A"
      },
      "source": [
        "map"
      ],
      "execution_count": null,
      "outputs": []
    }
  ]
}