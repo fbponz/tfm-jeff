{
  "nbformat": 4,
  "nbformat_minor": 0,
  "metadata": {
    "colab": {
      "name": "TFM_EDA_Jeff+POI.ipynb",
      "provenance": []
    },
    "kernelspec": {
      "name": "python3",
      "display_name": "Python 3"
    },
    "language_info": {
      "name": "python"
    }
  },
  "cells": [
    {
      "cell_type": "code",
      "metadata": {
        "id": "fVui59r3hti-"
      },
      "source": [
        "import pandas as pd"
      ],
      "execution_count": null,
      "outputs": []
    },
    {
      "cell_type": "code",
      "metadata": {
        "id": "MxWZ1ycHh2Sr"
      },
      "source": [
        "jeff_vlc = pd.read_csv('jeff_vlc_poi.csv', sep=',', decimal='.')"
      ],
      "execution_count": null,
      "outputs": []
    },
    {
      "cell_type": "code",
      "metadata": {
        "id": "YntMsIROlunr"
      },
      "source": [
        "jeff_vlc.drop(['Unnamed: 0','Unnamed: 0.1','partner_id','prtn_address_latitude','prtn_address_longitude','order_id','ord_billing_address_lat','ord_billing_address_long', 'Dist_Cliente_Tienda'],inplace=True,axis=1)"
      ],
      "execution_count": null,
      "outputs": []
    },
    {
      "cell_type": "code",
      "metadata": {
        "id": "-AzVliUrlLnh"
      },
      "source": [
        "jeff_vlc=jeff_vlc[jeff_vlc['ord_channel_type_code']=='OFFLINE']"
      ],
      "execution_count": null,
      "outputs": []
    },
    {
      "cell_type": "code",
      "metadata": {
        "id": "kQQCVphDpBxL"
      },
      "source": [
        "jeff_vlc_reino=jeff_vlc[jeff_vlc['prtn_code']=='REINO']"
      ],
      "execution_count": null,
      "outputs": []
    },
    {
      "cell_type": "code",
      "metadata": {
        "id": "gwEG28sEpKv_"
      },
      "source": [
        "jeff_vlc_petxina=jeff_vlc[jeff_vlc['prtn_code']=='PETXINA']"
      ],
      "execution_count": null,
      "outputs": []
    },
    {
      "cell_type": "code",
      "metadata": {
        "id": "grVz_NfipOeN"
      },
      "source": [
        "jeff_vlc_reino_correlacion = jeff_vlc_reino.corr()"
      ],
      "execution_count": null,
      "outputs": []
    },
    {
      "cell_type": "code",
      "metadata": {
        "id": "1M4Lb9aipX0y"
      },
      "source": [
        "jeff_vlc_petxina_correlacion = jeff_vlc_petxina.corr()"
      ],
      "execution_count": null,
      "outputs": []
    },
    {
      "cell_type": "code",
      "metadata": {
        "id": "-KltUy-1ppG0"
      },
      "source": [
        "jeff_vlc_reino_correlacion_simple = jeff_vlc_reino_correlacion['customer_id']\n",
        "jeff_vlc_reino_correlacion_simple"
      ],
      "execution_count": null,
      "outputs": []
    },
    {
      "cell_type": "code",
      "metadata": {
        "id": "fCvIdDWspo2c"
      },
      "source": [
        "jeff_vlc_petxina_correlacion_simple = jeff_vlc_petxina_correlacion['customer_id']\n",
        "jeff_vlc_petxina_correlacion_simple"
      ],
      "execution_count": null,
      "outputs": []
    },
    {
      "cell_type": "markdown",
      "metadata": {
        "id": "vSgYUvNKqVl-"
      },
      "source": [
        "Segundo enfoque, clasificación de clientes. Toda valencia"
      ]
    },
    {
      "cell_type": "code",
      "metadata": {
        "id": "INQ_5oz850cZ"
      },
      "source": [
        "def get_correlation_shop(in_vlc):\n",
        "  customer_id_count = in_vlc[['customer_id','total_poi']]\n",
        "  customer_id_count = customer_id_count.groupby(by=['customer_id']).count()\n",
        "  customer_id_count=customer_id_count.reset_index(level='customer_id')\n",
        "  customer_id_count = customer_id_count.rename(columns={'total_poi': 'num_operaciones'})\n",
        "  result = pd.merge(customer_id_count, in_vlc, on=\"customer_id\")\n",
        "  result_final = result.drop_duplicates('customer_id')\n",
        "  result_final.reset_index(inplace=True)\n",
        "  result_final.drop(['customer_id','index','prtn_code','prtn_city_code','ord_channel_code','ord_channel_type_code','ord_logistics_code','ord_creation_date_time'],inplace=True,axis=1)\n",
        "  return result_final"
      ],
      "execution_count": null,
      "outputs": []
    },
    {
      "cell_type": "code",
      "metadata": {
        "id": "N8PXiWLy6Cyg"
      },
      "source": [
        "result_test = get_correlation_shop(jeff_vlc)"
      ],
      "execution_count": null,
      "outputs": []
    },
    {
      "cell_type": "code",
      "metadata": {
        "id": "W2GCifHQ6TzD"
      },
      "source": [
        "result_test.corr()"
      ],
      "execution_count": null,
      "outputs": []
    },
    {
      "cell_type": "markdown",
      "metadata": {
        "id": "0Kj_uUya5p7k"
      },
      "source": [
        "Enfoque clasificación, clientes. Reino"
      ]
    },
    {
      "cell_type": "code",
      "metadata": {
        "id": "AuaTA3Uc5nmx"
      },
      "source": [
        "jeff_vlc_reino = jeff_vlc[jeff_vlc['prtn_code']=='REINO']\n",
        "result_reino_test = get_correlation_shop(jeff_vlc_reino)\n",
        "resultados_correlacion_reino = result_reino_test.corr()"
      ],
      "execution_count": null,
      "outputs": []
    },
    {
      "cell_type": "markdown",
      "metadata": {
        "id": "W-d1oJiC5vx5"
      },
      "source": [
        "Enfoque clasificación, clientes. Petxina"
      ]
    },
    {
      "cell_type": "code",
      "metadata": {
        "id": "6-h9iFPV6zfp"
      },
      "source": [
        "jeff_vlc_petxina = jeff_vlc[jeff_vlc['prtn_code']=='PETXINA']\n",
        "result_petxina_test = get_correlation_shop(jeff_vlc_petxina)\n",
        "resultados_correlacion_petxina = result_petxina_test.corr()"
      ],
      "execution_count": null,
      "outputs": []
    },
    {
      "cell_type": "code",
      "metadata": {
        "id": "i2t9cmjt-iCr"
      },
      "source": [
        "result_reino = resultados_correlacion_reino['num_operaciones']"
      ],
      "execution_count": null,
      "outputs": []
    },
    {
      "cell_type": "code",
      "metadata": {
        "id": "w4vGS6AA_Aes"
      },
      "source": [
        "result_petxina = resultados_correlacion_petxina['num_operaciones']"
      ],
      "execution_count": null,
      "outputs": []
    },
    {
      "cell_type": "code",
      "metadata": {
        "id": "wpMYdUxP_Yan"
      },
      "source": [
        "result_reino"
      ],
      "execution_count": null,
      "outputs": []
    },
    {
      "cell_type": "code",
      "metadata": {
        "id": "VYc3vWrxANXu"
      },
      "source": [
        "result_petxina"
      ],
      "execution_count": null,
      "outputs": []
    }
  ]
}