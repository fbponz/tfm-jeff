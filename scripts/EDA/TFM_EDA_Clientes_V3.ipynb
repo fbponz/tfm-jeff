{
  "nbformat": 4,
  "nbformat_minor": 0,
  "metadata": {
    "colab": {
      "name": "TFM_EDA_Clientes_V3.ipynb",
      "provenance": [],
      "collapsed_sections": []
    },
    "kernelspec": {
      "name": "python3",
      "display_name": "Python 3"
    },
    "language_info": {
      "name": "python"
    }
  },
  "cells": [
    {
      "cell_type": "code",
      "metadata": {
        "id": "F4a61N7Fz-24"
      },
      "source": [
        "pip install -q folium"
      ],
      "execution_count": 1,
      "outputs": []
    },
    {
      "cell_type": "code",
      "metadata": {
        "id": "iPjUaiEE6mqL"
      },
      "source": [
        "!pip install -q geopandas"
      ],
      "execution_count": null,
      "outputs": []
    },
    {
      "cell_type": "code",
      "metadata": {
        "id": "6mygmhHmzvS0"
      },
      "source": [
        "!pip install -q pandas-profiling==2.7.1"
      ],
      "execution_count": null,
      "outputs": []
    },
    {
      "cell_type": "code",
      "metadata": {
        "id": "uKaQMXhcw5UZ"
      },
      "source": [
        "import pandas as pd\n",
        "import folium\n",
        "from folium.plugins import MarkerCluster\n",
        "import json\n",
        "import shapely\n",
        "from shapely.geometry import shape, GeometryCollection, Point, Polygon\n",
        "import geopandas as gpd\n",
        "from pandas_profiling import ProfileReport"
      ],
      "execution_count": 4,
      "outputs": []
    },
    {
      "cell_type": "code",
      "metadata": {
        "id": "cb742bL0w-ZU"
      },
      "source": [
        "jeff_vlc = pd.read_csv('jeff_vlc_poi.csv', sep=',', decimal='.')\n",
        "jeff_vlc.drop(['Unnamed: 0','Unnamed: 0.1','partner_id','prtn_address_latitude','prtn_address_longitude','order_id', 'Dist_Cliente_Tienda'],inplace=True,axis=1)"
      ],
      "execution_count": 5,
      "outputs": []
    },
    {
      "cell_type": "code",
      "metadata": {
        "id": "b3vFWQFvs_ag"
      },
      "source": [
        "dataset_ine = pd.read_csv('dataset_ine_valencia.csv', sep=',', decimal='.')\n",
        "dataset_ine.drop(['coddistrit','codsec','Unnamed: 0'],inplace=True,axis=1)"
      ],
      "execution_count": 6,
      "outputs": []
    },
    {
      "cell_type": "code",
      "metadata": {
        "id": "rPtEd_UG6QQh"
      },
      "source": [
        "with open('seccensales.JSON') as f:\n",
        "    seccensales_geojson = json.load(f)"
      ],
      "execution_count": 7,
      "outputs": []
    },
    {
      "cell_type": "code",
      "metadata": {
        "id": "xKGNUye6y_LN"
      },
      "source": [
        "def DrawLaundry_Points(latitude, longitude, map,string):\n",
        "    folium.Marker(location=[latitude,longitude ],popup=string).add_to( map )"
      ],
      "execution_count": 8,
      "outputs": []
    },
    {
      "cell_type": "code",
      "metadata": {
        "id": "pI7U31K16OnR"
      },
      "source": [
        "def get_seccensal(lat,long, infeatures):\n",
        "  seccensal = 0\n",
        "  point1 = Point(long, lat)\n",
        "  for feature in infeatures[\"features\"]:\n",
        "      poly = Polygon(feature[\"geometry\"][\"coordinates\"][0])\n",
        "      if poly.contains(point1) == True:\n",
        "          seccensal = feature[\"properties\"][\"coddistsec\"]\n",
        "          break\n",
        "  return int(seccensal)"
      ],
      "execution_count": 9,
      "outputs": []
    },
    {
      "cell_type": "code",
      "metadata": {
        "id": "0bpWXvWzdW6s"
      },
      "source": [
        "def draw_map_cluster(dataset):\n",
        "  map = folium.Map(location=[39.46994829189022, -0.37787440832473984], tiles='CartoDB positron', zoom_start=14)\n",
        "  marker_cluster = MarkerCluster().add_to(map)\n",
        "  dataset_visual = dataset\n",
        "  dataset_visual = dataset_visual.drop_duplicates('customer_id')\n",
        "  dataset_visual.apply(lambda row: DrawLaundry_Points(row['ord_billing_address_lat'],row['ord_billing_address_long'],marker_cluster,row['prtn_code']), axis=1)\n",
        "  return map"
      ],
      "execution_count": 10,
      "outputs": []
    },
    {
      "cell_type": "code",
      "metadata": {
        "id": "MYPpO7RW7Hln"
      },
      "source": [
        "jeff_vlc[\"Code\"] = jeff_vlc.apply(lambda row: get_seccensal(row[\"ord_billing_address_lat\"], row[\"ord_billing_address_long\"], seccensales_geojson), axis=1) \n",
        "jeff_vlc = jeff_vlc[jeff_vlc[\"Code\"]!= 0]"
      ],
      "execution_count": 11,
      "outputs": []
    },
    {
      "cell_type": "code",
      "metadata": {
        "id": "YE7KspLrvOMU"
      },
      "source": [
        "jeff_vlc = pd.merge(jeff_vlc, dataset_ine, on=\"Code\", how=\"inner\")"
      ],
      "execution_count": 12,
      "outputs": []
    },
    {
      "cell_type": "markdown",
      "metadata": {
        "id": "GDZVTQmhaYyv"
      },
      "source": [
        "Pedidos de las dos modalidades"
      ]
    },
    {
      "cell_type": "code",
      "metadata": {
        "id": "P6dFKTfGxY26"
      },
      "source": [
        "map_total = draw_map_cluster(jeff_vlc)\n",
        "map_total"
      ],
      "execution_count": null,
      "outputs": []
    },
    {
      "cell_type": "markdown",
      "metadata": {
        "id": "-pc_j2G38Kxw"
      },
      "source": [
        "Solo pedidos offline"
      ]
    },
    {
      "cell_type": "code",
      "metadata": {
        "id": "Ba9vvias8Pkq"
      },
      "source": [
        "jeff_vlc_offline=jeff_vlc[jeff_vlc['ord_channel_type_code']=='OFFLINE']\n",
        "map_total_offline = draw_map_cluster(jeff_vlc_offline)\n",
        "map_total_offline"
      ],
      "execution_count": null,
      "outputs": []
    },
    {
      "cell_type": "code",
      "metadata": {
        "id": "bAiTWDIkc3vR"
      },
      "source": [
        "jeff_vlc_online=jeff_vlc[jeff_vlc['ord_channel_type_code']=='ONLINE']\n",
        "map_total_online = draw_map_cluster(jeff_vlc_online)\n",
        "map_total_online"
      ],
      "execution_count": null,
      "outputs": []
    },
    {
      "cell_type": "markdown",
      "metadata": {
        "id": "0NMm3K6X8twH"
      },
      "source": [
        "**Tienda petxina**\n",
        "\n",
        "Canal Offline Petxina"
      ]
    },
    {
      "cell_type": "code",
      "metadata": {
        "id": "7h7rwTpH890t"
      },
      "source": [
        "jeff_vlc_offline_petxina=jeff_vlc_offline[jeff_vlc_offline['prtn_code']=='PETXINA']\n",
        "map_total_offline_petxina = draw_map_cluster(jeff_vlc_offline_petxina)\n",
        "map_total_offline_petxina"
      ],
      "execution_count": null,
      "outputs": []
    },
    {
      "cell_type": "markdown",
      "metadata": {
        "id": "qgsZM8k9e-Za"
      },
      "source": [
        "Canal Online Petxina"
      ]
    },
    {
      "cell_type": "code",
      "metadata": {
        "id": "7-Xp27p6e916"
      },
      "source": [
        "jeff_vlc_online_petxina=jeff_vlc_online[jeff_vlc_online['prtn_code']=='PETXINA']\n",
        "map_total_online_petxina = draw_map_cluster(jeff_vlc_online_petxina)\n",
        "map_total_online_petxina"
      ],
      "execution_count": null,
      "outputs": []
    },
    {
      "cell_type": "markdown",
      "metadata": {
        "id": "bKjjei1X9HgU"
      },
      "source": [
        "**Tienda Reino**\n",
        "\n",
        "Canal Offline Reino"
      ]
    },
    {
      "cell_type": "code",
      "metadata": {
        "id": "eoDr8oPxoI48"
      },
      "source": [
        "jeff_vlc_offline_reino=jeff_vlc_offline[jeff_vlc_offline['prtn_code']=='REINO']\n",
        "map_total_offline_reino = draw_map_cluster(jeff_vlc_offline_reino)\n",
        "map_total_offline_reino"
      ],
      "execution_count": null,
      "outputs": []
    },
    {
      "cell_type": "markdown",
      "metadata": {
        "id": "g90VwccLovrt"
      },
      "source": [
        "Canal Online Reino"
      ]
    },
    {
      "cell_type": "code",
      "metadata": {
        "id": "TQsktsWxoZ8s"
      },
      "source": [
        "jeff_vlc_online_reino=jeff_vlc_online[jeff_vlc_online['prtn_code']=='REINO']\n",
        "map_total_online_reino = draw_map_cluster(jeff_vlc_online_reino)\n",
        "map_total_online_reino"
      ],
      "execution_count": null,
      "outputs": []
    },
    {
      "cell_type": "markdown",
      "metadata": {
        "id": "khqT9uPGEgFy"
      },
      "source": [
        "**Correlaciones valencia**"
      ]
    },
    {
      "cell_type": "markdown",
      "metadata": {
        "id": "Cd3GSP_hzrOG"
      },
      "source": [
        "Pandas Profile"
      ]
    },
    {
      "cell_type": "code",
      "metadata": {
        "id": "fqT8cN_Dzqrx"
      },
      "source": [
        "report_vlc_online = ProfileReport(jeff_vlc_online)\n",
        "report_vlc_online.to_file(\"jeff_vlc_online_report.html\")"
      ],
      "execution_count": null,
      "outputs": []
    },
    {
      "cell_type": "code",
      "metadata": {
        "id": "-vw_hkea0A4z"
      },
      "source": [
        "report_vlc_offline = ProfileReport(jeff_vlc_offline)\n",
        "report_vlc_offline.to_file(\"jeff_vlc_offline_report.html\")"
      ],
      "execution_count": null,
      "outputs": []
    },
    {
      "cell_type": "code",
      "metadata": {
        "id": "bWMeBsDp0YjL"
      },
      "source": [
        "report_vlc_online_petxina = ProfileReport(jeff_vlc_online_petxina)\n",
        "report_vlc_online_petxina.to_file(\"jeff_vlc_online_petxina_report.html\")"
      ],
      "execution_count": null,
      "outputs": []
    },
    {
      "cell_type": "code",
      "metadata": {
        "id": "nAfdzoX00YjM"
      },
      "source": [
        "report_vlc_offline_petxina = ProfileReport(jeff_vlc_offline_petxina)\n",
        "report_vlc_offline_petxina.to_file(\"jeff_vlc_offline_petxina_report.html\")"
      ],
      "execution_count": null,
      "outputs": []
    },
    {
      "cell_type": "code",
      "metadata": {
        "id": "88ezTzn-0pUB"
      },
      "source": [
        "report_vlc_online_reino = ProfileReport(jeff_vlc_online_reino)\n",
        "report_vlc_online_reino.to_file(\"jeff_vlc_online_reino_report.html\")"
      ],
      "execution_count": null,
      "outputs": []
    },
    {
      "cell_type": "code",
      "metadata": {
        "id": "alp5os360pUD"
      },
      "source": [
        "report_vlc_offline_reino = ProfileReport(jeff_vlc_offline_reino)\n",
        "report_vlc_offline_reino.to_file(\"jeff_vlc_offline_reino_report.html\")"
      ],
      "execution_count": null,
      "outputs": []
    },
    {
      "cell_type": "markdown",
      "metadata": {
        "id": "UM-G4gZu42fl"
      },
      "source": [
        "Correlacion"
      ]
    },
    {
      "cell_type": "code",
      "metadata": {
        "id": "IFrPL87z40kE"
      },
      "source": [
        "def get_correlation_shop(in_vlc):\n",
        "  customer_id_count = in_vlc[['customer_id','total_poi']]\n",
        "  customer_id_count = customer_id_count.groupby(by=['customer_id']).count()\n",
        "  customer_id_count=customer_id_count.reset_index(level='customer_id')\n",
        "  customer_id_count = customer_id_count.rename(columns={'total_poi': 'num_operaciones'})\n",
        "  result = pd.merge(customer_id_count, in_vlc, on=\"customer_id\")\n",
        "  result_final = result.drop_duplicates('customer_id')\n",
        "  result_final.reset_index(inplace=True)\n",
        "  result_final.drop(['customer_id','index','prtn_code','prtn_city_code','ord_channel_code','ord_channel_type_code','ord_logistics_code','ord_creation_date_time','Code', 'ord_billing_address_lat', 'ord_billing_address_long'],inplace=True,axis=1)\n",
        "  resultados_correlacion = result_final.corr()\n",
        "  result_corr = resultados_correlacion['num_operaciones']\n",
        "  return result_corr"
      ],
      "execution_count": 22,
      "outputs": []
    },
    {
      "cell_type": "markdown",
      "metadata": {
        "id": "AfvsSZm_40kF"
      },
      "source": [
        "Correlacion Petxina offline y online"
      ]
    },
    {
      "cell_type": "code",
      "metadata": {
        "id": "C-jWAJrp40kG"
      },
      "source": [
        "result_petxina_online = get_correlation_shop(jeff_vlc_online_petxina)\n",
        "result_petxina_offline = get_correlation_shop(jeff_vlc_offline_petxina)"
      ],
      "execution_count": null,
      "outputs": []
    },
    {
      "cell_type": "code",
      "metadata": {
        "id": "jB3KI-9L40kG"
      },
      "source": [
        "result_petxina_online"
      ],
      "execution_count": null,
      "outputs": []
    },
    {
      "cell_type": "code",
      "metadata": {
        "id": "VJ3lEVcT40kH"
      },
      "source": [
        "result_petxina_offline"
      ],
      "execution_count": null,
      "outputs": []
    },
    {
      "cell_type": "markdown",
      "metadata": {
        "id": "hgaxDpeO40kH"
      },
      "source": [
        "Correlacion Reino offline y online"
      ]
    },
    {
      "cell_type": "code",
      "metadata": {
        "id": "fnAjd1yD40kH"
      },
      "source": [
        "result_reino_online = get_correlation_shop(jeff_vlc_online_reino)\n",
        "result_reino_offline = get_correlation_shop(jeff_vlc_offline_reino)"
      ],
      "execution_count": null,
      "outputs": []
    },
    {
      "cell_type": "code",
      "metadata": {
        "id": "bJ-W3czk40kH"
      },
      "source": [
        "result_reino_online"
      ],
      "execution_count": null,
      "outputs": []
    },
    {
      "cell_type": "code",
      "metadata": {
        "id": "NhhzXUEt40kI"
      },
      "source": [
        "result_reino_offline"
      ],
      "execution_count": null,
      "outputs": []
    },
    {
      "cell_type": "code",
      "metadata": {
        "id": "3pOY5P4X64Up"
      },
      "source": [
        "jeff_vlc_online_petxina"
      ],
      "execution_count": null,
      "outputs": []
    },
    {
      "cell_type": "markdown",
      "metadata": {
        "id": "PzmDQFwD6X4K"
      },
      "source": [
        "Correlacion Datos INE"
      ]
    },
    {
      "cell_type": "code",
      "metadata": {
        "id": "h9JEdLd54_e2"
      },
      "source": [
        "jeff_online_petxina_ine = jeff_vlc_online_petxina.drop(['education','lavanderias','tiendas','transporte','gimnasios','parques','restaurante','bancos','estadios', 'hospitales', 'total_poi','Code'],axis=1)\n",
        "jeff_offline_petxina_ine = jeff_vlc_offline_petxina.drop(['education','lavanderias','tiendas','transporte','gimnasios','parques','restaurante','bancos','estadios', 'hospitales', 'total_poi','Code'],axis=1)\n",
        "jeff_online_reino_ine = jeff_vlc_online_reino.drop(['education','lavanderias','tiendas','transporte','gimnasios','parques','restaurante','bancos','estadios', 'hospitales', 'total_poi','Code'],axis=1)\n",
        "jeff_offline_reino_ine = jeff_vlc_offline_reino.drop(['education','lavanderias','tiendas','transporte','gimnasios','parques','restaurante','bancos','estadios', 'hospitales', 'total_poi','Code'],axis=1)\n",
        "result_jeff_online_petxina_ine =jeff_online_petxina_ine.corr()\n",
        "result_jeff_offline_petxina_ine =jeff_offline_petxina_ine.corr()\n",
        "result_jeff_online_reino_ine =jeff_online_reino_ine.corr()\n",
        "result_jeff_offline_reino_ine =jeff_offline_reino_ine.corr()   "
      ],
      "execution_count": 31,
      "outputs": []
    },
    {
      "cell_type": "code",
      "metadata": {
        "id": "oOvT-H5l6W41"
      },
      "source": [
        "result_jeff_online_petxina_ine"
      ],
      "execution_count": null,
      "outputs": []
    },
    {
      "cell_type": "code",
      "metadata": {
        "id": "01ss3B3j6kum"
      },
      "source": [
        "result_jeff_offline_petxina_ine"
      ],
      "execution_count": null,
      "outputs": []
    },
    {
      "cell_type": "code",
      "metadata": {
        "id": "rb5qfV2o6lDJ"
      },
      "source": [
        "result_jeff_online_reino_ine"
      ],
      "execution_count": null,
      "outputs": []
    },
    {
      "cell_type": "code",
      "metadata": {
        "id": "zp64agCDZa3h"
      },
      "source": [
        "result_jeff_offline_reino_ine"
      ],
      "execution_count": null,
      "outputs": []
    }
  ]
}